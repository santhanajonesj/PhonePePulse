{
 "cells": [
  {
   "cell_type": "code",
   "execution_count": 13,
   "metadata": {},
   "outputs": [],
   "source": [
    "import pandas as pd\n",
    "import numpy as np\n",
    "import mysql.connector as sql"
   ]
  },
  {
   "cell_type": "code",
   "execution_count": 3,
   "metadata": {},
   "outputs": [
    {
     "name": "stdout",
     "output_type": "stream",
     "text": [
      "                          State  Year  Quarter   Brands    Count  Percentage\n",
      "0     andaman-&-nicobar-islands  2018        1   Xiaomi     1665    0.247033\n",
      "1     andaman-&-nicobar-islands  2018        1  Samsung     1445    0.214392\n",
      "2     andaman-&-nicobar-islands  2018        1     Vivo      982    0.145697\n",
      "3     andaman-&-nicobar-islands  2018        1     Oppo      501    0.074332\n",
      "4     andaman-&-nicobar-islands  2018        1  OnePlus      332    0.049258\n",
      "...                         ...   ...      ...      ...      ...         ...\n",
      "6727                west-bengal  2022        1   Lenovo   330017    0.015056\n",
      "6728                west-bengal  2022        1  Infinix   284678    0.012987\n",
      "6729                west-bengal  2022        1     Asus   280347    0.012790\n",
      "6730                west-bengal  2022        1    Apple   277752    0.012671\n",
      "6731                west-bengal  2022        1   Others  2196334    0.100199\n",
      "\n",
      "[6732 rows x 6 columns]\n"
     ]
    }
   ],
   "source": [
    "df_agg_user = pd.read_csv('PhonePe/agg_user.csv')\n",
    "print(df_agg_user)"
   ]
  },
  {
   "cell_type": "code",
   "execution_count": 5,
   "metadata": {},
   "outputs": [
    {
     "name": "stdout",
     "output_type": "stream",
     "text": [
      "                          State  Year  Quarter          Transaction_type  \\\n",
      "0     andaman-&-nicobar-islands  2018        1  Recharge & bill payments   \n",
      "1     andaman-&-nicobar-islands  2018        1     Peer-to-peer payments   \n",
      "2     andaman-&-nicobar-islands  2018        1         Merchant payments   \n",
      "3     andaman-&-nicobar-islands  2018        1        Financial Services   \n",
      "4     andaman-&-nicobar-islands  2018        1                    Others   \n",
      "...                         ...   ...      ...                       ...   \n",
      "3589                west-bengal  2022        4     Peer-to-peer payments   \n",
      "3590                west-bengal  2022        4         Merchant payments   \n",
      "3591                west-bengal  2022        4  Recharge & bill payments   \n",
      "3592                west-bengal  2022        4        Financial Services   \n",
      "3593                west-bengal  2022        4                    Others   \n",
      "\n",
      "      Transaction_count  Transaction_amount  \n",
      "0                  4200        1.845307e+06  \n",
      "1                  1871        1.213866e+07  \n",
      "2                   298        4.525072e+05  \n",
      "3                    33        1.060142e+04  \n",
      "4                   256        1.846899e+05  \n",
      "...                 ...                 ...  \n",
      "3589          184380244        6.202222e+11  \n",
      "3590          171667404        1.408077e+11  \n",
      "3591           48921147        2.602663e+10  \n",
      "3592             268388        2.611229e+08  \n",
      "3593             610414        4.579379e+08  \n",
      "\n",
      "[3594 rows x 6 columns]\n"
     ]
    }
   ],
   "source": [
    "df_agg_trans = pd.read_csv('PhonePe/agg_trans.csv')\n",
    "print(df_agg_trans)"
   ]
  },
  {
   "cell_type": "code",
   "execution_count": 6,
   "metadata": {},
   "outputs": [
    {
     "name": "stdout",
     "output_type": "stream",
     "text": [
      "                           State  Year  Quarter  \\\n",
      "0      andaman-&-nicobar-islands  2018        1   \n",
      "1      andaman-&-nicobar-islands  2018        1   \n",
      "2      andaman-&-nicobar-islands  2018        1   \n",
      "3      andaman-&-nicobar-islands  2018        2   \n",
      "4      andaman-&-nicobar-islands  2018        2   \n",
      "...                          ...   ...      ...   \n",
      "14631                west-bengal  2022        4   \n",
      "14632                west-bengal  2022        4   \n",
      "14633                west-bengal  2022        4   \n",
      "14634                west-bengal  2022        4   \n",
      "14635                west-bengal  2022        4   \n",
      "\n",
      "                                District     Count        Amount  \n",
      "0      north and middle andaman district       442  9.316631e+05  \n",
      "1                 south andaman district      5688  1.256025e+07  \n",
      "2                      nicobars district       528  1.139849e+06  \n",
      "3      north and middle andaman district       825  1.317863e+06  \n",
      "4                 south andaman district      9395  2.394824e+07  \n",
      "...                                  ...       ...           ...  \n",
      "14631                     nadia district  12690126  2.804568e+10  \n",
      "14632                   birbhum district   7617444  1.614650e+10  \n",
      "14633           purba medinipur district  14484229  3.309949e+10  \n",
      "14634                    maldah district  12492746  2.721861e+10  \n",
      "14635                 darjiling district   8827502  1.801650e+10  \n",
      "\n",
      "[14636 rows x 6 columns]\n"
     ]
    }
   ],
   "source": [
    "df_map_trans = pd.read_csv('PhonePe/map_trans.csv')\n",
    "print(df_map_trans)"
   ]
  },
  {
   "cell_type": "code",
   "execution_count": 7,
   "metadata": {},
   "outputs": [
    {
     "name": "stdout",
     "output_type": "stream",
     "text": [
      "                           State  Year  Quarter  \\\n",
      "0      andaman-&-nicobar-islands  2018        1   \n",
      "1      andaman-&-nicobar-islands  2018        1   \n",
      "2      andaman-&-nicobar-islands  2018        1   \n",
      "3      andaman-&-nicobar-islands  2018        2   \n",
      "4      andaman-&-nicobar-islands  2018        2   \n",
      "...                          ...   ...      ...   \n",
      "14635                west-bengal  2022        4   \n",
      "14636                west-bengal  2022        4   \n",
      "14637                west-bengal  2022        4   \n",
      "14638                west-bengal  2022        4   \n",
      "14639                west-bengal  2022        4   \n",
      "\n",
      "                                District  RegisteredUser  AppOpens  \n",
      "0      north and middle andaman district             632         0  \n",
      "1                 south andaman district            5846         0  \n",
      "2                      nicobars district             262         0  \n",
      "3      north and middle andaman district             911         0  \n",
      "4                 south andaman district            8143         0  \n",
      "...                                  ...             ...       ...  \n",
      "14635                     nadia district         1359420  33853990  \n",
      "14636                   birbhum district          855236  20950662  \n",
      "14637           purba medinipur district         1346908  38278506  \n",
      "14638                    maldah district          954892  29023743  \n",
      "14639                 darjiling district          564562  15982631  \n",
      "\n",
      "[14640 rows x 6 columns]\n"
     ]
    }
   ],
   "source": [
    "df_map_user =pd.read_csv('PhonePe/map_user.csv')\n",
    "print(df_map_user)"
   ]
  },
  {
   "cell_type": "code",
   "execution_count": 8,
   "metadata": {},
   "outputs": [
    {
     "name": "stdout",
     "output_type": "stream",
     "text": [
      "                          State  Year  Quarter   Pincode  Transaction_count  \\\n",
      "0     andaman-&-nicobar-islands  2018        1  744101.0               1622   \n",
      "1     andaman-&-nicobar-islands  2018        1  744103.0               1223   \n",
      "2     andaman-&-nicobar-islands  2018        1  744102.0                969   \n",
      "3     andaman-&-nicobar-islands  2018        1  744105.0                685   \n",
      "4     andaman-&-nicobar-islands  2018        1  744104.0                340   \n",
      "...                         ...   ...      ...       ...                ...   \n",
      "7134                west-bengal  2022        4  722101.0            2900058   \n",
      "7135                west-bengal  2022        4  700135.0            2471048   \n",
      "7136                west-bengal  2022        4  732101.0            2407008   \n",
      "7137                west-bengal  2022        4  700091.0            2348447   \n",
      "7138                west-bengal  2022        4  711101.0            1765314   \n",
      "\n",
      "      Transaction_amount  \n",
      "0           2.769298e+06  \n",
      "1           2.238042e+06  \n",
      "2           3.519060e+06  \n",
      "3           1.298561e+06  \n",
      "4           1.039715e+06  \n",
      "...                  ...  \n",
      "7134        5.748321e+09  \n",
      "7135        3.527457e+09  \n",
      "7136        5.052109e+09  \n",
      "7137        2.176640e+09  \n",
      "7138        4.048329e+09  \n",
      "\n",
      "[7139 rows x 6 columns]\n"
     ]
    }
   ],
   "source": [
    "df_top_trans = pd.read_csv('PhonePe/top_trans.csv')\n",
    "print(df_top_trans)"
   ]
  },
  {
   "cell_type": "code",
   "execution_count": 9,
   "metadata": {},
   "outputs": [
    {
     "name": "stdout",
     "output_type": "stream",
     "text": [
      "                          State  Year  Quarter  Pincode  RegisteredUsers\n",
      "0     andaman-&-nicobar-islands  2018        1   744103             1608\n",
      "1     andaman-&-nicobar-islands  2018        1   744101             1108\n",
      "2     andaman-&-nicobar-islands  2018        1   744105             1075\n",
      "3     andaman-&-nicobar-islands  2018        1   744102             1006\n",
      "4     andaman-&-nicobar-islands  2018        1   744104              272\n",
      "...                         ...   ...      ...      ...              ...\n",
      "7135                west-bengal  2022        4   700015           108457\n",
      "7136                west-bengal  2022        4   742304           105471\n",
      "7137                west-bengal  2022        4   721101           105279\n",
      "7138                west-bengal  2022        4   700091           102363\n",
      "7139                west-bengal  2022        4   700150           101966\n",
      "\n",
      "[7140 rows x 5 columns]\n"
     ]
    }
   ],
   "source": [
    "df_top_user =pd.read_csv('PhonePe/top_user.csv')\n",
    "print(df_top_user)"
   ]
  },
  {
   "cell_type": "code",
   "execution_count": 14,
   "metadata": {},
   "outputs": [],
   "source": [
    "mydb = sql.connect(host=\"localhost\",\n",
    "                   user=\"root\",\n",
    "                   password=\"Jones@1234\",\n",
    "                   database= \"phonepe\"\n",
    "                  )\n",
    "mycursor = mydb.cursor(buffered=True)"
   ]
  },
  {
   "cell_type": "code",
   "execution_count": 25,
   "metadata": {},
   "outputs": [],
   "source": [
    "#creating table for agg_transaction"
   ]
  },
  {
   "cell_type": "code",
   "execution_count": 16,
   "metadata": {},
   "outputs": [],
   "source": [
    "mycursor.execute(\"create table agg_transaction (State varchar(100), Year int, Quarter int, Transaction_type varchar(100), Transaction_count int, Transaction_amount double)\")\n",
    "\n",
    "for i,row in df_agg_trans.iterrows():\n",
    "    #here %S means string values \n",
    "    sql = \"INSERT INTO agg_transaction VALUES (%s,%s,%s,%s,%s,%s)\"\n",
    "    mycursor.execute(sql, tuple(row))\n",
    "    # the connection is not auto committed by default, so we must commit to save our changes\n",
    "    mydb.commit()"
   ]
  },
  {
   "cell_type": "code",
   "execution_count": 24,
   "metadata": {},
   "outputs": [],
   "source": [
    "#creating table for agg_users"
   ]
  },
  {
   "cell_type": "code",
   "execution_count": 17,
   "metadata": {},
   "outputs": [],
   "source": [
    "mycursor.execute(\"create table agg_users (State varchar(100), Year int, Quarter int, Brands varchar(100), Count int, Percentage double)\")\n",
    "\n",
    "for i,row in df_agg_user.iterrows():\n",
    "    sql = \"INSERT INTO agg_users VALUES (%s,%s,%s,%s,%s,%s)\"\n",
    "    mycursor.execute(sql, tuple(row))\n",
    "    mydb.commit()"
   ]
  },
  {
   "cell_type": "code",
   "execution_count": 23,
   "metadata": {},
   "outputs": [],
   "source": [
    "#creating table for map_trans"
   ]
  },
  {
   "cell_type": "code",
   "execution_count": 18,
   "metadata": {},
   "outputs": [],
   "source": [
    "mycursor.execute(\"create table map_trans (State varchar(100), Year int, Quarter int, District varchar(100), Count int, Amount double)\")\n",
    "\n",
    "for i,row in df_map_trans.iterrows():\n",
    "    sql = \"INSERT INTO map_trans VALUES (%s,%s,%s,%s,%s,%s)\"\n",
    "    mycursor.execute(sql, tuple(row))\n",
    "    mydb.commit()"
   ]
  },
  {
   "cell_type": "code",
   "execution_count": null,
   "metadata": {},
   "outputs": [],
   "source": [
    "#creating table for top_trans"
   ]
  },
  {
   "cell_type": "code",
   "execution_count": 19,
   "metadata": {},
   "outputs": [],
   "source": [
    "mycursor.execute(\"create table top_trans (State varchar(100), Year int, Quarter int, Pincode int, Transaction_count int, Transaction_amount double)\")\n",
    "\n",
    "for i,row in df_top_trans.iterrows():\n",
    "    sql = \"INSERT INTO top_trans VALUES (%s,%s,%s,%s,%s,%s)\"\n",
    "    mycursor.execute(sql, tuple(row))\n",
    "    mydb.commit()"
   ]
  },
  {
   "cell_type": "code",
   "execution_count": 22,
   "metadata": {},
   "outputs": [],
   "source": [
    "#Creating table for top_user"
   ]
  },
  {
   "cell_type": "code",
   "execution_count": 21,
   "metadata": {},
   "outputs": [
    {
     "ename": "ProgrammingError",
     "evalue": "1050 (42S01): Table 'top_user' already exists",
     "output_type": "error",
     "traceback": [
      "\u001b[1;31m---------------------------------------------------------------------------\u001b[0m",
      "\u001b[1;31mProgrammingError\u001b[0m                          Traceback (most recent call last)",
      "Cell \u001b[1;32mIn[21], line 2\u001b[0m\n\u001b[0;32m      1\u001b[0m \u001b[38;5;66;03m#creating table for top_user\u001b[39;00m\n\u001b[1;32m----> 2\u001b[0m \u001b[43mmycursor\u001b[49m\u001b[38;5;241;43m.\u001b[39;49m\u001b[43mexecute\u001b[49m\u001b[43m(\u001b[49m\u001b[38;5;124;43m\"\u001b[39;49m\u001b[38;5;124;43mcreate table top_user (State varchar(100), Year int, Quarter int, Pincode int, Registered_users int)\u001b[39;49m\u001b[38;5;124;43m\"\u001b[39;49m\u001b[43m)\u001b[49m\n\u001b[0;32m      4\u001b[0m \u001b[38;5;28;01mfor\u001b[39;00m i,row \u001b[38;5;129;01min\u001b[39;00m df_top_user\u001b[38;5;241m.\u001b[39miterrows():\n\u001b[0;32m      5\u001b[0m     sql \u001b[38;5;241m=\u001b[39m \u001b[38;5;124m\"\u001b[39m\u001b[38;5;124mINSERT INTO top_user VALUES (\u001b[39m\u001b[38;5;132;01m%s\u001b[39;00m\u001b[38;5;124m,\u001b[39m\u001b[38;5;132;01m%s\u001b[39;00m\u001b[38;5;124m,\u001b[39m\u001b[38;5;132;01m%s\u001b[39;00m\u001b[38;5;124m,\u001b[39m\u001b[38;5;132;01m%s\u001b[39;00m\u001b[38;5;124m,\u001b[39m\u001b[38;5;132;01m%s\u001b[39;00m\u001b[38;5;124m)\u001b[39m\u001b[38;5;124m\"\u001b[39m\n",
      "File \u001b[1;32m~\\AppData\\Local\\Packages\\PythonSoftwareFoundation.Python.3.11_qbz5n2kfra8p0\\LocalCache\\local-packages\\Python311\\site-packages\\mysql\\connector\\cursor.py:537\u001b[0m, in \u001b[0;36mMySQLCursor.execute\u001b[1;34m(self, operation, params, multi)\u001b[0m\n\u001b[0;32m    534\u001b[0m     \u001b[38;5;28;01mreturn\u001b[39;00m \u001b[38;5;28mself\u001b[39m\u001b[38;5;241m.\u001b[39m_execute_iter(\u001b[38;5;28mself\u001b[39m\u001b[38;5;241m.\u001b[39m_connection\u001b[38;5;241m.\u001b[39mcmd_query_iter(stmt))\n\u001b[0;32m    536\u001b[0m \u001b[38;5;28;01mtry\u001b[39;00m:\n\u001b[1;32m--> 537\u001b[0m     \u001b[38;5;28mself\u001b[39m\u001b[38;5;241m.\u001b[39m_handle_result(\u001b[38;5;28;43mself\u001b[39;49m\u001b[38;5;241;43m.\u001b[39;49m\u001b[43m_connection\u001b[49m\u001b[38;5;241;43m.\u001b[39;49m\u001b[43mcmd_query\u001b[49m\u001b[43m(\u001b[49m\u001b[43mstmt\u001b[49m\u001b[43m)\u001b[49m)\n\u001b[0;32m    538\u001b[0m \u001b[38;5;28;01mexcept\u001b[39;00m InterfaceError \u001b[38;5;28;01mas\u001b[39;00m err:\n\u001b[0;32m    539\u001b[0m     \u001b[38;5;28;01mif\u001b[39;00m \u001b[38;5;28mself\u001b[39m\u001b[38;5;241m.\u001b[39m_connection\u001b[38;5;241m.\u001b[39mhave_next_result:\n",
      "File \u001b[1;32m~\\AppData\\Local\\Packages\\PythonSoftwareFoundation.Python.3.11_qbz5n2kfra8p0\\LocalCache\\local-packages\\Python311\\site-packages\\mysql\\connector\\opentelemetry\\context_propagation.py:97\u001b[0m, in \u001b[0;36mwith_context_propagation.<locals>.wrapper\u001b[1;34m(cnx, *args, **kwargs)\u001b[0m\n\u001b[0;32m     95\u001b[0m \u001b[38;5;66;03m# pylint: disable=possibly-used-before-assignment\u001b[39;00m\n\u001b[0;32m     96\u001b[0m \u001b[38;5;28;01mif\u001b[39;00m \u001b[38;5;129;01mnot\u001b[39;00m OTEL_ENABLED \u001b[38;5;129;01mor\u001b[39;00m \u001b[38;5;129;01mnot\u001b[39;00m cnx\u001b[38;5;241m.\u001b[39motel_context_propagation:\n\u001b[1;32m---> 97\u001b[0m     \u001b[38;5;28;01mreturn\u001b[39;00m \u001b[43mmethod\u001b[49m\u001b[43m(\u001b[49m\u001b[43mcnx\u001b[49m\u001b[43m,\u001b[49m\u001b[43m \u001b[49m\u001b[38;5;241;43m*\u001b[39;49m\u001b[43margs\u001b[49m\u001b[43m,\u001b[49m\u001b[43m \u001b[49m\u001b[38;5;241;43m*\u001b[39;49m\u001b[38;5;241;43m*\u001b[39;49m\u001b[43mkwargs\u001b[49m\u001b[43m)\u001b[49m\n\u001b[0;32m     99\u001b[0m current_span \u001b[38;5;241m=\u001b[39m trace\u001b[38;5;241m.\u001b[39mget_current_span()\n\u001b[0;32m    100\u001b[0m tp_header \u001b[38;5;241m=\u001b[39m \u001b[38;5;28;01mNone\u001b[39;00m\n",
      "File \u001b[1;32m~\\AppData\\Local\\Packages\\PythonSoftwareFoundation.Python.3.11_qbz5n2kfra8p0\\LocalCache\\local-packages\\Python311\\site-packages\\mysql\\connector\\connection.py:859\u001b[0m, in \u001b[0;36mMySQLConnection.cmd_query\u001b[1;34m(self, query, raw, buffered, raw_as_string)\u001b[0m\n\u001b[0;32m    857\u001b[0m query \u001b[38;5;241m=\u001b[39m \u001b[38;5;28mbytes\u001b[39m(packet)\n\u001b[0;32m    858\u001b[0m \u001b[38;5;28;01mtry\u001b[39;00m:\n\u001b[1;32m--> 859\u001b[0m     result \u001b[38;5;241m=\u001b[39m \u001b[38;5;28;43mself\u001b[39;49m\u001b[38;5;241;43m.\u001b[39;49m\u001b[43m_handle_result\u001b[49m\u001b[43m(\u001b[49m\u001b[38;5;28;43mself\u001b[39;49m\u001b[38;5;241;43m.\u001b[39;49m\u001b[43m_send_cmd\u001b[49m\u001b[43m(\u001b[49m\u001b[43mServerCmd\u001b[49m\u001b[38;5;241;43m.\u001b[39;49m\u001b[43mQUERY\u001b[49m\u001b[43m,\u001b[49m\u001b[43m \u001b[49m\u001b[43mquery\u001b[49m\u001b[43m)\u001b[49m\u001b[43m)\u001b[49m\n\u001b[0;32m    860\u001b[0m \u001b[38;5;28;01mexcept\u001b[39;00m ProgrammingError \u001b[38;5;28;01mas\u001b[39;00m err:\n\u001b[0;32m    861\u001b[0m     \u001b[38;5;28;01mif\u001b[39;00m err\u001b[38;5;241m.\u001b[39merrno \u001b[38;5;241m==\u001b[39m \u001b[38;5;241m3948\u001b[39m \u001b[38;5;129;01mand\u001b[39;00m \u001b[38;5;124m\"\u001b[39m\u001b[38;5;124mLoading local data is disabled\u001b[39m\u001b[38;5;124m\"\u001b[39m \u001b[38;5;129;01min\u001b[39;00m err\u001b[38;5;241m.\u001b[39mmsg:\n",
      "File \u001b[1;32m~\\AppData\\Local\\Packages\\PythonSoftwareFoundation.Python.3.11_qbz5n2kfra8p0\\LocalCache\\local-packages\\Python311\\site-packages\\mysql\\connector\\connection.py:635\u001b[0m, in \u001b[0;36mMySQLConnection._handle_result\u001b[1;34m(self, packet)\u001b[0m\n\u001b[0;32m    633\u001b[0m     \u001b[38;5;28;01mreturn\u001b[39;00m \u001b[38;5;28mself\u001b[39m\u001b[38;5;241m.\u001b[39m_handle_eof(packet)\n\u001b[0;32m    634\u001b[0m \u001b[38;5;28;01mif\u001b[39;00m packet[\u001b[38;5;241m4\u001b[39m] \u001b[38;5;241m==\u001b[39m \u001b[38;5;241m255\u001b[39m:\n\u001b[1;32m--> 635\u001b[0m     \u001b[38;5;28;01mraise\u001b[39;00m get_exception(packet)\n\u001b[0;32m    637\u001b[0m \u001b[38;5;66;03m# We have a text result set\u001b[39;00m\n\u001b[0;32m    638\u001b[0m column_count \u001b[38;5;241m=\u001b[39m \u001b[38;5;28mself\u001b[39m\u001b[38;5;241m.\u001b[39m_protocol\u001b[38;5;241m.\u001b[39mparse_column_count(packet)\n",
      "\u001b[1;31mProgrammingError\u001b[0m: 1050 (42S01): Table 'top_user' already exists"
     ]
    }
   ],
   "source": [
    "mycursor.execute(\"create table top_user (State varchar(100), Year int, Quarter int, Pincode int, Registered_users int)\")\n",
    "\n",
    "for i,row in df_top_user.iterrows():\n",
    "    sql = \"INSERT INTO top_user VALUES (%s,%s,%s,%s,%s)\"\n",
    "    mycursor.execute(sql, tuple(row))\n",
    "    mydb.commit()"
   ]
  }
 ],
 "metadata": {
  "kernelspec": {
   "display_name": "Python 3",
   "language": "python",
   "name": "python3"
  },
  "language_info": {
   "codemirror_mode": {
    "name": "ipython",
    "version": 3
   },
   "file_extension": ".py",
   "mimetype": "text/x-python",
   "name": "python",
   "nbconvert_exporter": "python",
   "pygments_lexer": "ipython3",
   "version": "3.11.9"
  }
 },
 "nbformat": 4,
 "nbformat_minor": 2
}
